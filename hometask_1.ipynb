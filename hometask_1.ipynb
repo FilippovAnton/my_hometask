{
 "cells": [
  {
   "cell_type": "code",
   "execution_count": 1,
   "metadata": {},
   "outputs": [],
   "source": [
    "\n",
    "\n",
    "class Test:\n",
    "    @staticmethod\n",
    "    def assert_equals(a, b, *args, **kwargs):\n",
    "        assert a == b\n",
    "        print('Passed')\n",
    "\n"
   ]
  },
  {
   "cell_type": "markdown",
   "metadata": {},
   "source": [
    "Problem https://edabit.com/challenge/st8mDxreMcuWxuz8c (3 point)"
   ]
  },
  {
   "cell_type": "code",
   "execution_count": 2,
   "metadata": {},
   "outputs": [],
   "source": [
    "def pentagonal(num):\n",
    "\treturn 2.5*num*num - 2.5*num + 1"
   ]
  },
  {
   "cell_type": "code",
   "execution_count": 3,
   "metadata": {},
   "outputs": [
    {
     "name": "stdout",
     "output_type": "stream",
     "text": [
      "Passed\n",
      "Passed\n",
      "Passed\n",
      "Passed\n",
      "Passed\n",
      "Passed\n",
      "Passed\n",
      "Passed\n",
      "Passed\n",
      "Passed\n",
      "Passed\n"
     ]
    }
   ],
   "source": [
    "Test.assert_equals(pentagonal(1), 1)\n",
    "Test.assert_equals(pentagonal(3), 16)\n",
    "Test.assert_equals(pentagonal(8), 141)\n",
    "Test.assert_equals(pentagonal(10), 226)\n",
    "Test.assert_equals(pentagonal(15), 526)\n",
    "Test.assert_equals(pentagonal(33), 2641)\n",
    "Test.assert_equals(pentagonal(43), 4516)\n",
    "Test.assert_equals(pentagonal(13), 391)\n",
    "Test.assert_equals(pentagonal(50), 6126)\n",
    "Test.assert_equals(pentagonal(62), 9456)\n",
    "Test.assert_equals(pentagonal(21), 1051)"
   ]
  },
  {
   "cell_type": "markdown",
   "metadata": {},
   "source": [
    "Problem https://edabit.com/challenge/yvJbdkmKHvCNtcZy9 (3 point)"
   ]
  },
  {
   "cell_type": "code",
   "execution_count": 4,
   "metadata": {},
   "outputs": [],
   "source": [
    "def is_disarium(n):    \n",
    "    a = [int(c) for c in str(n)]\n",
    "    b = 0\n",
    "    for i in range(len(a)):\n",
    "        b += a[i]**(i+1)\n",
    "    if b == n:\n",
    "        return True\n",
    "    else:\n",
    "        return False"
   ]
  },
  {
   "cell_type": "code",
   "execution_count": 5,
   "metadata": {},
   "outputs": [
    {
     "name": "stdout",
     "output_type": "stream",
     "text": [
      "Passed\n",
      "Passed\n",
      "Passed\n",
      "Passed\n",
      "Passed\n",
      "Passed\n",
      "Passed\n",
      "Passed\n",
      "Passed\n",
      "Passed\n",
      "Passed\n",
      "Passed\n"
     ]
    }
   ],
   "source": [
    "num_vector, res_vector = [\n",
    "  [6, 75, 135, 466, 372, 175, 1, 696, 876, 89, 518, 598],\n",
    "  [True, False, True, False, False, True, True, False, False, True, True, True]\n",
    "]\n",
    "for i, n in enumerate(num_vector): Test.assert_equals(is_disarium(n), res_vector[i])"
   ]
  },
  {
   "cell_type": "markdown",
   "metadata": {},
   "source": [
    "Problem https://edabit.com/challenge/Y5Ji2HDnQTX7MxeHt (3 point)"
   ]
  },
  {
   "cell_type": "code",
   "execution_count": 6,
   "metadata": {},
   "outputs": [],
   "source": [
    "def snakefill(n):\n",
    "    from math import log2\n",
    "    return int(log2(n*n))"
   ]
  },
  {
   "cell_type": "code",
   "execution_count": 7,
   "metadata": {},
   "outputs": [
    {
     "name": "stdout",
     "output_type": "stream",
     "text": [
      "Passed\n",
      "Passed\n",
      "Passed\n",
      "Passed\n",
      "Passed\n",
      "Passed\n"
     ]
    }
   ],
   "source": [
    "Test.assert_equals(snakefill(8), 6)\n",
    "Test.assert_equals(snakefill(18), 8)\n",
    "Test.assert_equals(snakefill(555), 18)\n",
    "Test.assert_equals(snakefill(2), 2)\n",
    "Test.assert_equals(snakefill(1), 0)\n",
    "Test.assert_equals(snakefill(900), 19)"
   ]
  },
  {
   "cell_type": "markdown",
   "metadata": {},
   "source": [
    "Problem https://edabit.com/challenge/JzBLDzrcGCzDjkk5n (3 point)"
   ]
  },
  {
   "cell_type": "code",
   "execution_count": 24,
   "metadata": {},
   "outputs": [],
   "source": [
    "def encrypt(word):\n",
    "    a = [c for c in word]\n",
    "    a.reverse()\n",
    "    b = \"\"\n",
    "    for i in a:\n",
    "        if i == \"a\":\n",
    "            b += \"0\"\n",
    "        elif i == \"e\":\n",
    "            b += \"1\"\n",
    "        elif i == \"i\":\n",
    "            b += \"2\"\n",
    "        elif i == \"o\":\n",
    "            b += \"2\"\n",
    "        elif i == \"u\":\n",
    "            b += \"3\"\n",
    "        else:\n",
    "            b +=i\n",
    "    b += \"aca\"\n",
    "    #print(word,\" \",b)\n",
    "    return b"
   ]
  },
  {
   "cell_type": "code",
   "execution_count": 25,
   "metadata": {},
   "outputs": [
    {
     "name": "stdout",
     "output_type": "stream",
     "text": [
      "Passed\n",
      "Passed\n",
      "Passed\n",
      "Passed\n",
      "Passed\n"
     ]
    }
   ],
   "source": [
    "Test.assert_equals(encrypt(\"karaca\"), \"0c0r0kaca\")\n",
    "Test.assert_equals(encrypt(\"burak\"), \"k0r3baca\")\n",
    "Test.assert_equals(encrypt(\"banana\"), \"0n0n0baca\")\n",
    "Test.assert_equals(encrypt(\"alpaca\"), \"0c0pl0aca\")\n",
    "Test.assert_equals(encrypt(\"hello\"), \"2ll1haca\")"
   ]
  },
  {
   "cell_type": "markdown",
   "metadata": {},
   "source": [
    "Problem https://edabit.com/challenge/ksiA6Q34iXgTcMeZF (3 point)"
   ]
  },
  {
   "cell_type": "code",
   "execution_count": 27,
   "metadata": {},
   "outputs": [],
   "source": [
    "def bonus(days):\n",
    "    summ = 0\n",
    "    if days > 48:\n",
    "        summ += 600*(days - 48)\n",
    "        days = 48\n",
    "    if days > 40:\n",
    "        summ += 550*(days - 40)\n",
    "        days = 40\n",
    "    if days > 32:\n",
    "        summ += 325*(days - 32)\n",
    "    return summ"
   ]
  },
  {
   "cell_type": "code",
   "execution_count": 28,
   "metadata": {},
   "outputs": [
    {
     "name": "stdout",
     "output_type": "stream",
     "text": [
      "Passed\n",
      "Passed\n",
      "Passed\n"
     ]
    }
   ],
   "source": [
    "Test.assert_equals(bonus(15), 0)\n",
    "Test.assert_equals(bonus(37), 1625)\n",
    "Test.assert_equals(bonus(50), 8200)"
   ]
  },
  {
   "cell_type": "code",
   "execution_count": null,
   "metadata": {},
   "outputs": [],
   "source": []
  }
 ],
 "metadata": {
  "kernelspec": {
   "display_name": "Python 3",
   "language": "python",
   "name": "python3"
  },
  "language_info": {
   "codemirror_mode": {
    "name": "ipython",
    "version": 3
   },
   "file_extension": ".py",
   "mimetype": "text/x-python",
   "name": "python",
   "nbconvert_exporter": "python",
   "pygments_lexer": "ipython3",
   "version": "3.6.9"
  }
 },
 "nbformat": 4,
 "nbformat_minor": 4
}
